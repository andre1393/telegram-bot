{
 "cells": [
  {
   "cell_type": "code",
   "execution_count": 214,
   "metadata": {},
   "outputs": [],
   "source": [
    "import numpy as np\n",
    "import pandas as pd\n",
    "import cv2\n",
    "from matplotlib import pyplot as plt"
   ]
  },
  {
   "cell_type": "code",
   "execution_count": 215,
   "metadata": {},
   "outputs": [],
   "source": [
    "from PIL import Image # Importando o módulo Pillow para abrir a imagem no script\n",
    "import pytesseract # Módulo para a utilização da tecnologia OCR"
   ]
  },
  {
   "cell_type": "code",
   "execution_count": 216,
   "metadata": {},
   "outputs": [],
   "source": [
    "image = 'AgADAQADeKgxG1JUiEYg7_2Q-YJFHvsgFDAABAEAAwIAA3kAA2p1AwABFgQ'\n",
    "receipt_BGR = cv2.imread('../receipts/' + image)\n",
    "receipt = cv2.cvtColor(receipt_BGR, cv2.COLOR_BGR2GRAY)"
   ]
  },
  {
   "cell_type": "code",
   "execution_count": 223,
   "metadata": {},
   "outputs": [
    {
     "data": {
      "text/plain": [
       "<matplotlib.image.AxesImage at 0x7fdf0ea502e8>"
      ]
     },
     "execution_count": 223,
     "metadata": {},
     "output_type": "execute_result"
    },
    {
     "data": {
      "image/png": "[encoded data removed]",
      "text/plain": [
       "<Figure size 1440x2520 with 1 Axes>"
      ]
     },
     "metadata": {
      "needs_background": "light"
     },
     "output_type": "display_data"
    }
   ],
   "source": [
    "plt.figure(figsize = (20, 35))\n",
    "plt.imshow(receipt[50:100, :], cmap = 'gray')"
   ]
  },
  {
   "cell_type": "code",
   "execution_count": 237,
   "metadata": {},
   "outputs": [],
   "source": [
    "def normalize_payer(full_payer):\n",
    "    payers = ['Andre', 'Barbara']\n",
    "    for payer in payers:\n",
    "        if payer.lower() in full_payer.lower():\n",
    "            return payer\n",
    "    return full_payer\n",
    "\n",
    "def valid_bill_name(bill_name):\n",
    "    bill = bill_name.lower()\n",
    "    if 'comprovante' in bill and 'pagamento' in bill and 'titulos' in bill:\n",
    "        return None\n",
    "    else:\n",
    "        return bill_name.replace('\\n', ' ')"
   ]
  },
  {
   "cell_type": "code",
   "execution_count": 238,
   "metadata": {},
   "outputs": [],
   "source": [
    "def submit_boleto(receipt):\n",
    "    bill_name_img = receipt[50:100,:]\n",
    "    #plt.imshow(bill_name_img)\n",
    "    bill_name = pytesseract.image_to_string(bill_name_img)\n",
    "    \n",
    "    paid_date_img = receipt[200:220,63:130]\n",
    "    #plt.imshow(paid_date_img)\n",
    "    paid_date = pytesseract.image_to_string(paid_date_img)\n",
    "    \n",
    "    payer_img = receipt[780:800, :]\n",
    "    #plt.imshow(payer_img)\n",
    "    payer = pytesseract.image_to_string(payer_img)\n",
    "    \n",
    "    due_date_img = receipt[1090:1110,10:90]\n",
    "    #plt.imshow(due_date_img)\n",
    "    due_date = pytesseract.image_to_string(due_date_img)\n",
    "    \n",
    "    value_img = receipt[110:130, 40:]\n",
    "    #plt.imshow(receipt_img[110:130, 40:])\n",
    "    value = float(pytesseract.image_to_string(value_img, config='--psm 7').replace(',','.'))\n",
    "    \n",
    "    return valid_bill_name(bill_name), value, normalize_payer(payer), paid_date, due_date"
   ]
  },
  {
   "cell_type": "code",
   "execution_count": 239,
   "metadata": {},
   "outputs": [
    {
     "name": "stdout",
     "output_type": "stream",
     "text": [
      "(None, 78.0, 'Andre', '08/08/2019', '09/08/2019')\n"
     ]
    }
   ],
   "source": [
    "if receipt.shape[0] >= 1200: # pagamento de boleto\n",
    "    print(submit_boleto(receipt))"
   ]
  },
  {
   "cell_type": "code",
   "execution_count": 22,
   "metadata": {},
   "outputs": [
    {
     "ename": "TypeError",
     "evalue": "'float' object is not callable",
     "output_type": "error",
     "traceback": [
      "\u001b[0;31m---------------------------------------------------------------------------\u001b[0m",
      "\u001b[0;31mTypeError\u001b[0m                                 Traceback (most recent call last)",
      "\u001b[0;32m<ipython-input-22-9325b0d0bae1>\u001b[0m in \u001b[0;36m<module>\u001b[0;34m\u001b[0m\n\u001b[1;32m      2\u001b[0m \u001b[0mt\u001b[0m\u001b[0;34m,\u001b[0m\u001b[0mp\u001b[0m \u001b[0;34m=\u001b[0m \u001b[0mcv2\u001b[0m\u001b[0;34m.\u001b[0m\u001b[0mthreshold\u001b[0m\u001b[0;34m(\u001b[0m\u001b[0mvalue_img\u001b[0m\u001b[0;34m,\u001b[0m \u001b[0;36m150\u001b[0m\u001b[0;34m,\u001b[0m \u001b[0;36m255\u001b[0m\u001b[0;34m,\u001b[0m \u001b[0mcv2\u001b[0m\u001b[0;34m.\u001b[0m\u001b[0mTHRESH_BINARY\u001b[0m\u001b[0;34m)\u001b[0m\u001b[0;34m\u001b[0m\u001b[0;34m\u001b[0m\u001b[0m\n\u001b[1;32m      3\u001b[0m \u001b[0mplt\u001b[0m\u001b[0;34m.\u001b[0m\u001b[0mimshow\u001b[0m\u001b[0;34m(\u001b[0m\u001b[0mp\u001b[0m\u001b[0;34m)\u001b[0m\u001b[0;34m\u001b[0m\u001b[0;34m\u001b[0m\u001b[0m\n\u001b[0;32m----> 4\u001b[0;31m \u001b[0mt\u001b[0m\u001b[0;34m(\u001b[0m\u001b[0mpytesseract\u001b[0m\u001b[0;34m.\u001b[0m\u001b[0mimage_to_string\u001b[0m\u001b[0;34m(\u001b[0m\u001b[0mp\u001b[0m\u001b[0;34m,\u001b[0m \u001b[0mconfig\u001b[0m\u001b[0;34m=\u001b[0m\u001b[0;34m'--psm 7'\u001b[0m\u001b[0;34m)\u001b[0m\u001b[0;34m)\u001b[0m\u001b[0;34m\u001b[0m\u001b[0;34m\u001b[0m\u001b[0m\n\u001b[0m",
      "\u001b[0;31mTypeError\u001b[0m: 'float' object is not callable"
     ]
    },
    {
     "data": {
      "image/png": "[encoded data removed]",
      "text/plain": [
       "<Figure size 432x288 with 1 Axes>"
      ]
     },
     "metadata": {
      "needs_background": "light"
     },
     "output_type": "display_data"
    }
   ],
   "source": [
    "value_img = receipt[110:130, 40:130]\n",
    "t,p = cv2.threshold(value_img, 150, 255, cv2.THRESH_BINARY)\n",
    "plt.imshow(p)\n",
    "t(pytesseract.image_to_string(p, config='--psm 7'))\n"
   ]
  },
  {
   "cell_type": "code",
   "execution_count": 242,
   "metadata": {},
   "outputs": [
    {
     "ename": "SyntaxError",
     "evalue": "illegal target for annotation (<ipython-input-242-c0371baabd02>, line 1)",
     "output_type": "error",
     "traceback": [
      "\u001b[0;36m  File \u001b[0;32m\"<ipython-input-242-c0371baabd02>\"\u001b[0;36m, line \u001b[0;32m1\u001b[0m\n\u001b[0;31m    10:20\u001b[0m\n\u001b[0m         ^\u001b[0m\n\u001b[0;31mSyntaxError\u001b[0m\u001b[0;31m:\u001b[0m illegal target for annotation\n"
     ]
    }
   ],
   "source": []
  },
  {
   "cell_type": "code",
   "execution_count": 79,
   "metadata": {},
   "outputs": [],
   "source": [
    "    due_date_img = receipt[1090:1110,10:90]\n",
    "    #plt.imshow(due_date_img)\n",
    "    due_date = pytesseract.image_to_string(due_date_img)"
   ]
  },
  {
   "cell_type": "code",
   "execution_count": 80,
   "metadata": {},
   "outputs": [
    {
     "data": {
      "text/plain": [
       "'09/08/2019'"
      ]
     },
     "execution_count": 80,
     "metadata": {},
     "output_type": "execute_result"
    }
   ],
   "source": [
    "due_date"
   ]
  },
  {
   "cell_type": "code",
   "execution_count": null,
   "metadata": {},
   "outputs": [],
   "source": [
    "image = 'AgADAQADeKgxG1JUiEYg7_2Q-YJFHvsgFDAABAEAAwIAA3kAA2p1AwABFgQ'\n",
    "receipt_BGR = cv2.imread('../receipts/' + image)\n",
    "receipt = cv2.cvtColor(receipt_BGR, cv2.COLOR_BGR2GRAY)\n",
    "\n",
    ", bin_receipt = cv2.threshold(receipt, 1, 255, cv2.THRESH_BINARY_INV)\n",
    "#bin_receipt = cv2.adaptiveThreshold(receipt,255,cv2.ADAPTIVE_THRESH_GAUSSIAN_C,cv2.THRESH_BINARY,11,20)\n",
    "\n",
    "kernel = np.ones((2,2),np.uint8)\n",
    "dilate = cv2.erode(receipt, kernel)\n",
    "\n",
    "text = pytesseract.image_to_string(receipt)\n",
    "\n",
    "for i in text.split('\\n'):\n",
    "    if 'descri' in i:\n",
    "        "
   ]
  },
  {
   "cell_type": "code",
   "execution_count": 243,
   "metadata": {},
   "outputs": [
    {
     "data": {
      "text/plain": [
       "True"
      ]
     },
     "execution_count": 243,
     "metadata": {},
     "output_type": "execute_result"
    }
   ],
   "source": [
    "texto = 'yes'\n",
    "texto in ['yes', 'sim', 'ok', 'yep', 'confirmo', 'confirma']"
   ]
  },
  {
   "cell_type": "code",
   "execution_count": 1,
   "metadata": {},
   "outputs": [],
   "source": [
    "import cv2"
   ]
  },
  {
   "cell_type": "code",
   "execution_count": null,
   "metadata": {},
   "outputs": [],
   "source": [
    "img = cv2.imread('../receipts/AgADAQADGqgxGySE0EdPI_1kERFKJO38awYABAEAAwIAA3kAA3yPAAIWBA')"
   ]
  }
 ],
 "metadata": {
  "kernelspec": {
   "display_name": "Python 3",
   "language": "python",
   "name": "python3"
  },
  "language_info": {
   "codemirror_mode": {
    "name": "ipython",
    "version": 3
   },
   "file_extension": ".py",
   "mimetype": "text/x-python",
   "name": "python",
   "nbconvert_exporter": "python",
   "pygments_lexer": "ipython3",
   "version": "3.7.3"
  }
 },
 "nbformat": 4,
 "nbformat_minor": 2
}
